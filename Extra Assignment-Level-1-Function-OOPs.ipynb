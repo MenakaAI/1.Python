{
 "cells": [
  {
   "cell_type": "code",
   "execution_count": 1,
   "id": "8098a0b5",
   "metadata": {},
   "outputs": [],
   "source": [
    "\n",
    "\n",
    "def Subfields():\n",
    "    flds = [\"MachineLearning\",\"NeutralNetwork\",\"Vision\",\"Robotics\",\"SpeechProcessing\",\"NLP\"]\n",
    "    for num in flds:\n",
    "        print(num)\n",
    "    return num\n",
    "\n",
    "\n"
   ]
  },
  {
   "cell_type": "code",
   "execution_count": 2,
   "id": "b1bc12c1",
   "metadata": {},
   "outputs": [
    {
     "name": "stdout",
     "output_type": "stream",
     "text": [
      "Subfields in AI are:\n",
      "MachineLearning\n",
      "NeutralNetwork\n",
      "Vision\n",
      "Robotics\n",
      "SpeechProcessing\n",
      "NLP\n"
     ]
    },
    {
     "data": {
      "text/plain": [
       "'NLP'"
      ]
     },
     "execution_count": 2,
     "metadata": {},
     "output_type": "execute_result"
    }
   ],
   "source": [
    "print(\"Subfields in AI are:\")\n",
    "Subfields()\n"
   ]
  },
  {
   "cell_type": "code",
   "execution_count": 3,
   "id": "265de07e",
   "metadata": {},
   "outputs": [],
   "source": [
    "def OddEven():\n",
    "    Num= int(input(\"Enter the number:\"))\n",
    "    if((Num%2)==1):\n",
    "        print(Num, \"Is a odd Number\")\n",
    "    else:\n",
    "        print(Num, \"Is a Even Number\")\n"
   ]
  },
  {
   "cell_type": "code",
   "execution_count": 4,
   "id": "264e8f53",
   "metadata": {},
   "outputs": [
    {
     "name": "stdout",
     "output_type": "stream",
     "text": [
      "Enter the number:88\n",
      "88 Is a Even Number\n"
     ]
    }
   ],
   "source": [
    "OddEven()"
   ]
  },
  {
   "cell_type": "code",
   "execution_count": 10,
   "id": "5e6eadf8",
   "metadata": {},
   "outputs": [],
   "source": [
    "def MarriageEligibility():\n",
    "    Gender=input(\"Enter your Gender:\")\n",
    "    Age=int(input(\"Enter you age:\"))\n",
    "    if(Age>20):\n",
    "        print(\"Eligible for male\")\n",
    "        txt=(\"Eligible for male\")    \n",
    "    elif(Age>17):\n",
    "        print(\"Eligible for FeMale\")\n",
    "        txt=(\"Eligible for FeMale\")\n",
    "    else:\n",
    "        print(\"Not Eligible for marraige\")\n",
    "        txt=(\"Not Eligible for marraige\")\n",
    "        \n",
    "     \n",
    "\n",
    "    \n",
    "    \n",
    "    \n",
    "    \n"
   ]
  },
  {
   "cell_type": "code",
   "execution_count": 12,
   "id": "55718c42",
   "metadata": {},
   "outputs": [
    {
     "name": "stdout",
     "output_type": "stream",
     "text": [
      "Enter your Gender:male\n",
      "Enter you age:45\n",
      "Eligible for male\n"
     ]
    }
   ],
   "source": [
    "MarriageEligibility()"
   ]
  },
  {
   "cell_type": "code",
   "execution_count": 31,
   "id": "b60e8114",
   "metadata": {},
   "outputs": [],
   "source": [
    "def Percentage(sub1,sub2,sub3,sub4,sub5):\n",
    "    tol=sub1+sub2+sub3+sub4+sub5\n",
    "    print(\"Total :\",tol)\n",
    "    per=(tol/5)\n",
    "    print(\"Percentage :\",per)\n",
    "    return per\n",
    "    \n",
    "    "
   ]
  },
  {
   "cell_type": "code",
   "execution_count": 32,
   "id": "e305ea88",
   "metadata": {},
   "outputs": [
    {
     "name": "stdout",
     "output_type": "stream",
     "text": [
      "Total : 468\n",
      "Percentage : 93.6\n"
     ]
    },
    {
     "ename": "NameError",
     "evalue": "name 'per' is not defined",
     "output_type": "error",
     "traceback": [
      "\u001b[1;31m---------------------------------------------------------------------------\u001b[0m",
      "\u001b[1;31mNameError\u001b[0m                                 Traceback (most recent call last)",
      "Cell \u001b[1;32mIn[32], line 2\u001b[0m\n\u001b[0;32m      1\u001b[0m Percentage(\u001b[38;5;241m98\u001b[39m,\u001b[38;5;241m87\u001b[39m,\u001b[38;5;241m95\u001b[39m,\u001b[38;5;241m95\u001b[39m,\u001b[38;5;241m93\u001b[39m)\n\u001b[1;32m----> 2\u001b[0m \u001b[38;5;28mprint\u001b[39m(per)\n",
      "\u001b[1;31mNameError\u001b[0m: name 'per' is not defined"
     ]
    }
   ],
   "source": [
    "Percentage(98,87,95,95,93)\n",
    "print(per)"
   ]
  },
  {
   "cell_type": "code",
   "execution_count": 40,
   "id": "d96c008d",
   "metadata": {},
   "outputs": [],
   "source": [
    "def triangle():\n",
    "\n",
    "    H=int(input(\"Enter height:\"))\n",
    "    B=int(input(\"Enter breadth:\"))\n",
    "    Formula=(H*B)/2\n",
    "    print(\"Area of Triangle\",Formula)\n",
    "    H1=int(input(\"Enter height:\"))\n",
    "    H2=int(input(\"Enter height:\"))\n",
    "    B2=int(input(\"Enter breadth:\"))\n",
    "    F1=H1+H2+B2\n",
    "    print(\"Permiter of Traingle\",F1)\n",
    "   \n",
    "    \n",
    "\n"
   ]
  },
  {
   "cell_type": "code",
   "execution_count": 41,
   "id": "27925c7c",
   "metadata": {},
   "outputs": [
    {
     "name": "stdout",
     "output_type": "stream",
     "text": [
      "Enter height:55\n",
      "Enter breadth:44\n",
      "Area of Triangle 1210.0\n",
      "Enter height:34\n",
      "Enter height:34\n",
      "Enter breadth:23\n",
      "Permiter of Traingle 91\n"
     ]
    }
   ],
   "source": [
    "triangle()"
   ]
  },
  {
   "cell_type": "code",
   "execution_count": null,
   "id": "8c47c157",
   "metadata": {},
   "outputs": [],
   "source": [
    "class fields():\n",
    "    def Subfields():\n",
    "        flds = [\"MachineLearning\",\"NeutralNetwork\",\"Vision\",\"Robotics\",\"SpeechProcessing\",\"NLP\"]\n",
    "        for num in flds:\n",
    "            print(num)\n",
    "        return num\n",
    "    "
   ]
  },
  {
   "cell_type": "code",
   "execution_count": null,
   "id": "fe57f97f",
   "metadata": {},
   "outputs": [],
   "source": [
    "fields.Subfields()"
   ]
  },
  {
   "cell_type": "code",
   "execution_count": 33,
   "id": "5c0a8d23",
   "metadata": {},
   "outputs": [],
   "source": [
    "\n",
    "class percent():\n",
    "    def Percentage(sub1,sub2,sub3,sub4,sub5):\n",
    "        tol=sub1+sub2+sub3+sub4+sub5\n",
    "        print(\"Total :\",tol)\n",
    "        per=(tol/5)\n",
    "        print(\"Percentage :\",per)\n",
    "        return per\n",
    "    "
   ]
  },
  {
   "cell_type": "code",
   "execution_count": 35,
   "id": "f865b90c",
   "metadata": {},
   "outputs": [
    {
     "name": "stdout",
     "output_type": "stream",
     "text": [
      "Total : 468\n",
      "Percentage : 93.6\n"
     ]
    },
    {
     "data": {
      "text/plain": [
       "93.6"
      ]
     },
     "execution_count": 35,
     "metadata": {},
     "output_type": "execute_result"
    }
   ],
   "source": [
    "percent.Percentage(98,87,95,95,93)"
   ]
  },
  {
   "cell_type": "code",
   "execution_count": 3,
   "id": "b09a6aa8",
   "metadata": {},
   "outputs": [],
   "source": [
    "class tri():\n",
    "    def triangle():\n",
    "        H=int(input(\"Enter height:\"))\n",
    "        B=int(input(\"Enter breadth:\"))\n",
    "        Formula=(H*B)/2\n",
    "        print(\"Area of Triangle\",Formula)\n",
    "        H1=int(input(\"Enter height:\"))\n",
    "        H2=int(input(\"Enter height:\"))\n",
    "        B2=int(input(\"Enter breadth:\"))\n",
    "        F1=H1+H2+B2\n",
    "        print(\"Permiter of Traingle\",F1)\n"
   ]
  },
  {
   "cell_type": "code",
   "execution_count": 4,
   "id": "1ae96849",
   "metadata": {},
   "outputs": [
    {
     "name": "stdout",
     "output_type": "stream",
     "text": [
      "Enter height:7\n",
      "Enter breadth:7\n",
      "Area of Triangle 24.5\n",
      "Enter height:7\n",
      "Enter height:76\n",
      "Enter breadth:8\n",
      "Permiter of Traingle 91\n"
     ]
    }
   ],
   "source": [
    "tri.triangle()"
   ]
  },
  {
   "cell_type": "markdown",
   "id": "a5e83002",
   "metadata": {},
   "source": []
  }
 ],
 "metadata": {
  "kernelspec": {
   "display_name": "Python 3 (ipykernel)",
   "language": "python",
   "name": "python3"
  },
  "language_info": {
   "codemirror_mode": {
    "name": "ipython",
    "version": 3
   },
   "file_extension": ".py",
   "mimetype": "text/x-python",
   "name": "python",
   "nbconvert_exporter": "python",
   "pygments_lexer": "ipython3",
   "version": "3.11.5"
  }
 },
 "nbformat": 4,
 "nbformat_minor": 5
}
