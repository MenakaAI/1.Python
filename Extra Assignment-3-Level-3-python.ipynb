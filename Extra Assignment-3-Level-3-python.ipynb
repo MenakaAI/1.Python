{
 "cells": [
  {
   "cell_type": "code",
   "execution_count": 14,
   "id": "4a0beb6c",
   "metadata": {},
   "outputs": [
    {
     "name": "stdout",
     "output_type": "stream",
     "text": [
      "Value:10\n",
      "correct\n"
     ]
    }
   ],
   "source": [
    "\n",
    "value = int(input(\"Value:\"))\n",
    "\n",
    "if(value==10):\n",
    "    print (\"correct\")"
   ]
  },
  {
   "cell_type": "code",
   "execution_count": 27,
   "id": "af0f65dd",
   "metadata": {},
   "outputs": [
    {
     "name": "stdout",
     "output_type": "stream",
     "text": [
      "Enter the password:jffg\n",
      "Password is wrong\n"
     ]
    }
   ],
   "source": [
    "str= input(\"Enter the password:\")\n",
    "if(str in \"HOPE@123\"):\n",
    "    print(\"Passowrd is correct\")\n",
    "else:\n",
    "    print(\"Password is wrong\")\n"
   ]
  },
  {
   "cell_type": "code",
   "execution_count": 32,
   "id": "9811e31b",
   "metadata": {},
   "outputs": [
    {
     "name": "stdout",
     "output_type": "stream",
     "text": [
      "Enter you age :20\n",
      "children\n",
      "adult\n",
      "Citizen\n",
      "Citizen\n",
      "senior Citizen\n"
     ]
    }
   ],
   "source": [
    "lists =[18,24,43,57,87]\n",
    "age=int(input(\"Enter you age :\"))\n",
    "for age in lists:\n",
    "    if(age<=18):\n",
    "        print (\"children\")\n",
    "    elif(age<=35):\n",
    "        print (\"adult\")\n",
    "    elif(age<=59):\n",
    "        print(\"Citizen\")\n",
    "    else: \n",
    "        print(\"senior Citizen\")"
   ]
  },
  {
   "cell_type": "code",
   "execution_count": null,
   "id": "61598ba8",
   "metadata": {},
   "outputs": [],
   "source": []
  }
 ],
 "metadata": {
  "kernelspec": {
   "display_name": "Python 3 (ipykernel)",
   "language": "python",
   "name": "python3"
  },
  "language_info": {
   "codemirror_mode": {
    "name": "ipython",
    "version": 3
   },
   "file_extension": ".py",
   "mimetype": "text/x-python",
   "name": "python",
   "nbconvert_exporter": "python",
   "pygments_lexer": "ipython3",
   "version": "3.11.5"
  }
 },
 "nbformat": 4,
 "nbformat_minor": 5
}
