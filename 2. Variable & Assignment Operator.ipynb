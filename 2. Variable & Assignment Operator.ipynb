{
 "cells": [
  {
   "cell_type": "code",
   "execution_count": 2,
   "id": "ecb8038b",
   "metadata": {},
   "outputs": [],
   "source": [
    "N1=10\n",
    "N2=20\n",
    "N=N1+N2"
   ]
  },
  {
   "cell_type": "code",
   "execution_count": 3,
   "id": "95f241b4",
   "metadata": {},
   "outputs": [
    {
     "name": "stdout",
     "output_type": "stream",
     "text": [
      "N\n"
     ]
    }
   ],
   "source": [
    "N1=10\n",
    "N2=20\n",
    "N=N1+N2\n",
    "print(\"N\")"
   ]
  },
  {
   "cell_type": "code",
   "execution_count": 4,
   "id": "fbbd9ee0",
   "metadata": {},
   "outputs": [
    {
     "name": "stdout",
     "output_type": "stream",
     "text": [
      "N\n",
      "30\n"
     ]
    }
   ],
   "source": [
    "N1=10\n",
    "N2=20\n",
    "N=N1+N2\n",
    "print(\"N\")\n",
    "print(N)"
   ]
  },
  {
   "cell_type": "code",
   "execution_count": 5,
   "id": "0be520ff",
   "metadata": {},
   "outputs": [
    {
     "name": "stdout",
     "output_type": "stream",
     "text": [
      "N=\n",
      "30\n"
     ]
    }
   ],
   "source": [
    "N1=10\n",
    "N2=20\n",
    "N=N1+N2\n",
    "print(\"N=\")\n",
    "print(N)"
   ]
  },
  {
   "cell_type": "code",
   "execution_count": 10,
   "id": "91981680",
   "metadata": {},
   "outputs": [
    {
     "name": "stdout",
     "output_type": "stream",
     "text": [
      "30\n"
     ]
    }
   ],
   "source": [
    "Num1=10\n",
    "Num2=20\n",
    "Add=Num1+Num2\n",
    "\n",
    "print(Add)\n"
   ]
  },
  {
   "cell_type": "code",
   "execution_count": 15,
   "id": "0029974a",
   "metadata": {},
   "outputs": [
    {
     "name": "stdout",
     "output_type": "stream",
     "text": [
      "The Addition of two numbers\n",
      "TheNumber1 : 10\n",
      "TheNumber2 : 20\n",
      "The Answer : 30\n",
      "30\n"
     ]
    }
   ],
   "source": [
    "print(\"The Addition of two numbers\")\n",
    "Num1=10\n",
    "Num2=20\n",
    "Add= Num1 +Num2\n",
    "print (\"TheNumber1 :\",Num1)\n",
    "print (\"TheNumber2 :\",Num2)\n",
    "print(\"The Answer :\",Add)\n",
    "print(Add)\n"
   ]
  },
  {
   "cell_type": "code",
   "execution_count": 13,
   "id": "20f83291",
   "metadata": {},
   "outputs": [
    {
     "name": "stdout",
     "output_type": "stream",
     "text": [
      "enter the num:10\n"
     ]
    }
   ],
   "source": [
    "Num1=input(\"enter the num:\")"
   ]
  },
  {
   "cell_type": "code",
   "execution_count": 14,
   "id": "058ed5bd",
   "metadata": {},
   "outputs": [
    {
     "name": "stdout",
     "output_type": "stream",
     "text": [
      "enter the num :50\n"
     ]
    }
   ],
   "source": [
    "Num2=input(\"enter the num :\")"
   ]
  },
  {
   "cell_type": "code",
   "execution_count": 15,
   "id": "fe348d94",
   "metadata": {},
   "outputs": [
    {
     "name": "stdout",
     "output_type": "stream",
     "text": [
      "1050\n"
     ]
    }
   ],
   "source": [
    "Add= Num1+Num2\n",
    "print(Add)\n"
   ]
  },
  {
   "cell_type": "code",
   "execution_count": 18,
   "id": "6ab1ca84",
   "metadata": {},
   "outputs": [
    {
     "name": "stdout",
     "output_type": "stream",
     "text": [
      "enter the num:10\n"
     ]
    }
   ],
   "source": [
    "Num1=int(input(\"enter the num:\"))"
   ]
  },
  {
   "cell_type": "code",
   "execution_count": 19,
   "id": "d1147307",
   "metadata": {},
   "outputs": [
    {
     "name": "stdout",
     "output_type": "stream",
     "text": [
      "enter the num30\n"
     ]
    }
   ],
   "source": [
    "Num2= int(input(\"enter the num\"))"
   ]
  },
  {
   "cell_type": "code",
   "execution_count": 23,
   "id": "e2d28c92",
   "metadata": {},
   "outputs": [
    {
     "name": "stdout",
     "output_type": "stream",
     "text": [
      "20\n"
     ]
    }
   ],
   "source": [
    "Sub= Num2 - Num1\n",
    "print(Sub)\n"
   ]
  },
  {
   "cell_type": "code",
   "execution_count": null,
   "id": "bf0df3b6",
   "metadata": {},
   "outputs": [],
   "source": []
  }
 ],
 "metadata": {
  "kernelspec": {
   "display_name": "Python 3 (ipykernel)",
   "language": "python",
   "name": "python3"
  },
  "language_info": {
   "codemirror_mode": {
    "name": "ipython",
    "version": 3
   },
   "file_extension": ".py",
   "mimetype": "text/x-python",
   "name": "python",
   "nbconvert_exporter": "python",
   "pygments_lexer": "ipython3",
   "version": "3.11.5"
  }
 },
 "nbformat": 4,
 "nbformat_minor": 5
}
