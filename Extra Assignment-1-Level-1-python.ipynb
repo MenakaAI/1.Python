{
 "cells": [
  {
   "cell_type": "code",
   "execution_count": null,
   "id": "8e66dd3e",
   "metadata": {},
   "outputs": [],
   "source": [
    "#Print Statement"
   ]
  },
  {
   "cell_type": "code",
   "execution_count": 1,
   "id": "35b3ef85",
   "metadata": {},
   "outputs": [
    {
     "name": "stdout",
     "output_type": "stream",
     "text": [
      "Hope AI\n"
     ]
    }
   ],
   "source": [
    "print(\"Hope AI\")"
   ]
  },
  {
   "cell_type": "code",
   "execution_count": null,
   "id": "96cdfd99",
   "metadata": {},
   "outputs": [],
   "source": [
    "#Buy Input\n"
   ]
  },
  {
   "cell_type": "code",
   "execution_count": 2,
   "id": "4e9f332b",
   "metadata": {},
   "outputs": [
    {
     "name": "stdout",
     "output_type": "stream",
     "text": [
      "Enter your institute name ?:Jayaram\n"
     ]
    }
   ],
   "source": [
    "Institute= input(\"Enter your institute name ?:\")"
   ]
  },
  {
   "cell_type": "code",
   "execution_count": 1,
   "id": "17fb4bdb",
   "metadata": {},
   "outputs": [
    {
     "name": "stdout",
     "output_type": "stream",
     "text": [
      "Enter your name :Raj\n",
      "Enter your Age :15\n",
      "Enter your school_name :Guru School\n",
      "Enter your Degree :B.E CSC\n"
     ]
    }
   ],
   "source": [
    "Name = input(\"Enter your name :\")\n",
    "Age = int (input(\"Enter your Age :\"))\n",
    "School_Name = input(\"Enter your school_name :\")\n",
    "Degree = input(\"Enter your Degree :\")\n",
    "            "
   ]
  },
  {
   "cell_type": "code",
   "execution_count": 3,
   "id": "dd97885d",
   "metadata": {},
   "outputs": [
    {
     "name": "stdout",
     "output_type": "stream",
     "text": [
      "Add = 77\n"
     ]
    }
   ],
   "source": [
    "a=43\n",
    "b=34\n",
    "Add = a+b\n",
    "print(\"Add =\",Add)\n",
    "\n",
    "\n",
    "\n"
   ]
  },
  {
   "cell_type": "code",
   "execution_count": 6,
   "id": "7aabf74f",
   "metadata": {},
   "outputs": [
    {
     "name": "stdout",
     "output_type": "stream",
     "text": [
      "Sub = 9\n"
     ]
    }
   ],
   "source": [
    "a=43\n",
    "b=34\n",
    "Sub=a-b\n",
    "print (\"Sub =\",Sub)"
   ]
  },
  {
   "cell_type": "code",
   "execution_count": 8,
   "id": "c0f5320c",
   "metadata": {},
   "outputs": [
    {
     "name": "stdout",
     "output_type": "stream",
     "text": [
      "Mul = 6111\n"
     ]
    }
   ],
   "source": [
    "a=63\n",
    "b=97\n",
    "Mul =a*b\n",
    "print(\"Mul =\",Mul)"
   ]
  },
  {
   "cell_type": "code",
   "execution_count": 9,
   "id": "6acd936d",
   "metadata": {},
   "outputs": [
    {
     "name": "stdout",
     "output_type": "stream",
     "text": [
      "Float Div = 2.4516129032258065\n"
     ]
    }
   ],
   "source": [
    "a=76\n",
    "b=31\n",
    "Div= a/b\n",
    "print(\"Float Div =\",Div)\n"
   ]
  },
  {
   "cell_type": "code",
   "execution_count": 11,
   "id": "e1692063",
   "metadata": {},
   "outputs": [
    {
     "name": "stdout",
     "output_type": "stream",
     "text": [
      "Floor Div = 2\n"
     ]
    }
   ],
   "source": [
    "a=76\n",
    "b=31\n",
    "div=a//b\n",
    "print(\"Floor Div =\",div)"
   ]
  },
  {
   "cell_type": "code",
   "execution_count": 13,
   "id": "b9bf24a0",
   "metadata": {},
   "outputs": [
    {
     "name": "stdout",
     "output_type": "stream",
     "text": [
      "Modulo = 14\n"
     ]
    }
   ],
   "source": [
    "a=76\n",
    "b=31\n",
    "Mod=a%b\n",
    "print(\"Modulo =\",Mod)"
   ]
  },
  {
   "cell_type": "code",
   "execution_count": 15,
   "id": "a20d47de",
   "metadata": {},
   "outputs": [
    {
     "name": "stdout",
     "output_type": "stream",
     "text": [
      "Power = 256\n"
     ]
    }
   ],
   "source": [
    "a=4\n",
    "b=4\n",
    "Pow=a**b\n",
    "print(\"Power =\",Pow)"
   ]
  },
  {
   "cell_type": "code",
   "execution_count": null,
   "id": "1b0656a0",
   "metadata": {},
   "outputs": [],
   "source": []
  }
 ],
 "metadata": {
  "kernelspec": {
   "display_name": "Python 3 (ipykernel)",
   "language": "python",
   "name": "python3"
  },
  "language_info": {
   "codemirror_mode": {
    "name": "ipython",
    "version": 3
   },
   "file_extension": ".py",
   "mimetype": "text/x-python",
   "name": "python",
   "nbconvert_exporter": "python",
   "pygments_lexer": "ipython3",
   "version": "3.11.5"
  }
 },
 "nbformat": 4,
 "nbformat_minor": 5
}
