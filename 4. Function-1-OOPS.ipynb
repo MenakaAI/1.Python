{
 "cells": [
  {
   "cell_type": "code",
   "execution_count": 5,
   "id": "d724760c",
   "metadata": {},
   "outputs": [
    {
     "name": "stdout",
     "output_type": "stream",
     "text": [
      "Enter the num:34\n"
     ]
    }
   ],
   "source": [
    "num=int(input(\"Enter the num:\"))"
   ]
  },
  {
   "cell_type": "code",
   "execution_count": 6,
   "id": "b0246cd3",
   "metadata": {},
   "outputs": [],
   "source": [
    "def EvenOdd():\n",
    "    num=int(input(\"Enter the num:\"))\n",
    "    if((num%2)==1):\n",
    "        print (\"Odd number\")\n",
    "        Message =\"Odd number\"\n",
    "    else:\n",
    "        print (\"Even number\")\n",
    "        Message=\"Even number\"\n",
    "        return Message"
   ]
  },
  {
   "cell_type": "code",
   "execution_count": 7,
   "id": "116ed1a5",
   "metadata": {},
   "outputs": [
    {
     "name": "stdout",
     "output_type": "stream",
     "text": [
      "Enter the num:66\n",
      "Even number\n"
     ]
    },
    {
     "data": {
      "text/plain": [
       "'Even number'"
      ]
     },
     "execution_count": 7,
     "metadata": {},
     "output_type": "execute_result"
    }
   ],
   "source": [
    "EvenOdd()"
   ]
  },
  {
   "cell_type": "code",
   "execution_count": null,
   "id": "cd2917af",
   "metadata": {},
   "outputs": [],
   "source": [
    "# above one using return statement"
   ]
  },
  {
   "cell_type": "code",
   "execution_count": 32,
   "id": "d06f8da8",
   "metadata": {},
   "outputs": [],
   "source": [
    "def EvenOdd():\n",
    "    num=int(input(\"Enter the num:\"))\n",
    "    if((num%2)==1):\n",
    "        print (\"Odd number\")\n",
    "        Message =\"Odd number\"\n",
    "    else:\n",
    "        print (\"Even number\")\n",
    "        Message=\"Even number\"\n",
    "    return Message"
   ]
  },
  {
   "cell_type": "code",
   "execution_count": 33,
   "id": "6233a4c2",
   "metadata": {},
   "outputs": [
    {
     "name": "stdout",
     "output_type": "stream",
     "text": [
      "Enter the num:77\n",
      "Odd number\n"
     ]
    },
    {
     "data": {
      "text/plain": [
       "'Odd number'"
      ]
     },
     "execution_count": 33,
     "metadata": {},
     "output_type": "execute_result"
    }
   ],
   "source": [
    "EvenOdd()\n",
    "\n"
   ]
  },
  {
   "cell_type": "code",
   "execution_count": 8,
   "id": "2137a16f",
   "metadata": {},
   "outputs": [
    {
     "name": "stdout",
     "output_type": "stream",
     "text": [
      "Enter the num:77\n",
      "Odd number\n",
      "Given num is even\n"
     ]
    }
   ],
   "source": [
    "Message=EvenOdd()\n",
    "if(Message == \"Odd number\"):\n",
    "    print (\"Given num is odd\")\n",
    "else:\n",
    "    print(\"Given num is even\")\n"
   ]
  },
  {
   "cell_type": "code",
   "execution_count": null,
   "id": "abf2e5cb",
   "metadata": {},
   "outputs": [],
   "source": [
    "## Non parameterised"
   ]
  },
  {
   "cell_type": "code",
   "execution_count": 20,
   "id": "6c80dc81",
   "metadata": {},
   "outputs": [],
   "source": [
    "def BMI():\n",
    "    Weight =int(input(\"Enter your Weight in kg :\"))\n",
    "    Height=int(input(\"Enter your Height in cm :\"))\n",
    "    BMI=Weight/(Height/100)**2\n",
    "    if(BMI<18.5):\n",
    "        print (\"Underweight\")\n",
    "        Mes=\"Underweight\"\n",
    "    elif(BMI<24.9):\n",
    "        print (\"Normal\")\n",
    "        Mes=\"Normal\"\n",
    "    elif(BMI <39.9):\n",
    "        print (\"Overweight\")\n",
    "        Mes=\"Overweight\"\n",
    "    else:\n",
    "        print(\"Obese\")\n",
    "        Mes=\"Obese\"\n",
    "    return Mes"
   ]
  },
  {
   "cell_type": "code",
   "execution_count": 22,
   "id": "cf8048c4",
   "metadata": {},
   "outputs": [
    {
     "name": "stdout",
     "output_type": "stream",
     "text": [
      "Enter your Weight in kg :77\n",
      "Enter your Height in cm :160\n",
      "Overweight\n"
     ]
    },
    {
     "data": {
      "text/plain": [
       "'Overweight'"
      ]
     },
     "execution_count": 22,
     "metadata": {},
     "output_type": "execute_result"
    }
   ],
   "source": [
    "BMI()"
   ]
  },
  {
   "cell_type": "code",
   "execution_count": 23,
   "id": "c17d2bf3",
   "metadata": {},
   "outputs": [
    {
     "name": "stdout",
     "output_type": "stream",
     "text": [
      "Enter your Weight in kg :77\n",
      "Enter your Height in cm :100\n",
      "Obese\n"
     ]
    }
   ],
   "source": [
    "bmi=BMI()\n"
   ]
  },
  {
   "cell_type": "code",
   "execution_count": 24,
   "id": "92bffdaa",
   "metadata": {},
   "outputs": [
    {
     "name": "stdout",
     "output_type": "stream",
     "text": [
      "Obese\n"
     ]
    }
   ],
   "source": [
    "print (bmi)"
   ]
  },
  {
   "cell_type": "code",
   "execution_count": null,
   "id": "39319b91",
   "metadata": {},
   "outputs": [],
   "source": [
    "### Passing Arguments/parameterized"
   ]
  },
  {
   "cell_type": "code",
   "execution_count": 25,
   "id": "9755cf08",
   "metadata": {},
   "outputs": [],
   "source": [
    "def addition(num1,num2):\n",
    "    addition=num1+num2\n",
    "    print (addition)"
   ]
  },
  {
   "cell_type": "code",
   "execution_count": 26,
   "id": "e7ab30e5",
   "metadata": {},
   "outputs": [
    {
     "ename": "TypeError",
     "evalue": "addition() missing 2 required positional arguments: 'num1' and 'num2'",
     "output_type": "error",
     "traceback": [
      "\u001b[1;31m---------------------------------------------------------------------------\u001b[0m",
      "\u001b[1;31mTypeError\u001b[0m                                 Traceback (most recent call last)",
      "Cell \u001b[1;32mIn[26], line 1\u001b[0m\n\u001b[1;32m----> 1\u001b[0m addition()\n",
      "\u001b[1;31mTypeError\u001b[0m: addition() missing 2 required positional arguments: 'num1' and 'num2'"
     ]
    }
   ],
   "source": [
    "addition(3,4)\n"
   ]
  },
  {
   "cell_type": "code",
   "execution_count": 27,
   "id": "c105376a",
   "metadata": {},
   "outputs": [
    {
     "name": "stdout",
     "output_type": "stream",
     "text": [
      "7\n"
     ]
    }
   ],
   "source": [
    "addition(3,4)"
   ]
  },
  {
   "cell_type": "code",
   "execution_count": 33,
   "id": "f3208e5b",
   "metadata": {},
   "outputs": [],
   "source": [
    "def sub(num1,num2):\n",
    "    sub=num1-num2\n",
    "    print (sub)"
   ]
  },
  {
   "cell_type": "code",
   "execution_count": 34,
   "id": "cb1be823",
   "metadata": {},
   "outputs": [
    {
     "name": "stdout",
     "output_type": "stream",
     "text": [
      "-440\n"
     ]
    }
   ],
   "source": [
    "sub(107,547)"
   ]
  },
  {
   "cell_type": "code",
   "execution_count": null,
   "id": "373cb5bb",
   "metadata": {},
   "outputs": [],
   "source": []
  }
 ],
 "metadata": {
  "kernelspec": {
   "display_name": "Python 3 (ipykernel)",
   "language": "python",
   "name": "python3"
  },
  "language_info": {
   "codemirror_mode": {
    "name": "ipython",
    "version": 3
   },
   "file_extension": ".py",
   "mimetype": "text/x-python",
   "name": "python",
   "nbconvert_exporter": "python",
   "pygments_lexer": "ipython3",
   "version": "3.11.5"
  }
 },
 "nbformat": 4,
 "nbformat_minor": 5
}
