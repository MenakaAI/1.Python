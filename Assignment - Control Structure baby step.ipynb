{
 "cells": [
  {
   "cell_type": "code",
   "execution_count": null,
   "id": "1ef2770c",
   "metadata": {},
   "outputs": [],
   "source": [
    "print (\"Welcome to assignment-1\")\n"
   ]
  },
  {
   "cell_type": "code",
   "execution_count": null,
   "id": "c2528093",
   "metadata": {},
   "outputs": [],
   "source": [
    "Num1=10\n",
    "Num2=20\n",
    "Add=Num1+Num2\n",
    "print(\"Num1 =\",Num1)\n",
    "print(\"Num2 =\",Num2)\n",
    "print(\"Add =\",Add)"
   ]
  },
  {
   "cell_type": "code",
   "execution_count": 17,
   "id": "af8a1d0d",
   "metadata": {},
   "outputs": [
    {
     "name": "stdout",
     "output_type": "stream",
     "text": [
      "Enter your Weight in kg :80\n"
     ]
    }
   ],
   "source": [
    "Weight =int(input(\"Enter your Weight in kg :\"))\n"
   ]
  },
  {
   "cell_type": "code",
   "execution_count": 18,
   "id": "a2ebb626",
   "metadata": {},
   "outputs": [
    {
     "name": "stdout",
     "output_type": "stream",
     "text": [
      "Enter your Height in cm :153\n"
     ]
    }
   ],
   "source": [
    "Height=int(input(\"Enter your Height in cm :\"))\n"
   ]
  },
  {
   "cell_type": "code",
   "execution_count": 19,
   "id": "b4ed98ff",
   "metadata": {},
   "outputs": [
    {
     "name": "stdout",
     "output_type": "stream",
     "text": [
      "Enter the BMI Index 34.17488999957281\n",
      "Overweight\n"
     ]
    }
   ],
   "source": [
    "BMI=Weight/(Height/100)**2\n",
    "print(\"Enter the BMI Index\",BMI)\n",
    "if(BMI <=18.5):\n",
    "    print (\"Underweight\")\n",
    "elif(BMI <=24.9):\n",
    "    print (\"Normal\")\n",
    "elif(BMI  <=39.9):\n",
    "    print (\"Overweight\")\n",
    "else:\n",
    "    print(\"Obese\")\n",
    "    "
   ]
  },
  {
   "cell_type": "code",
   "execution_count": null,
   "id": "2e9f8e81",
   "metadata": {},
   "outputs": [],
   "source": []
  }
 ],
 "metadata": {
  "kernelspec": {
   "display_name": "Python 3 (ipykernel)",
   "language": "python",
   "name": "python3"
  },
  "language_info": {
   "codemirror_mode": {
    "name": "ipython",
    "version": 3
   },
   "file_extension": ".py",
   "mimetype": "text/x-python",
   "name": "python",
   "nbconvert_exporter": "python",
   "pygments_lexer": "ipython3",
   "version": "3.11.5"
  }
 },
 "nbformat": 4,
 "nbformat_minor": 5
}
