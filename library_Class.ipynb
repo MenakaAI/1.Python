{
 "cells": [
  {
   "cell_type": "code",
   "execution_count": 1,
   "id": "cda0d18e",
   "metadata": {},
   "outputs": [],
   "source": [
    "from library import Multiplerequest\n",
    "#from libraryname import classname"
   ]
  },
  {
   "cell_type": "code",
   "execution_count": 2,
   "id": "92930f5a",
   "metadata": {},
   "outputs": [
    {
     "name": "stdout",
     "output_type": "stream",
     "text": [
      "Enter your Weight in kg :76\n",
      "Enter your Height in cm :87\n",
      "Obese\n"
     ]
    },
    {
     "data": {
      "text/plain": [
       "'Obese'"
      ]
     },
     "execution_count": 2,
     "metadata": {},
     "output_type": "execute_result"
    }
   ],
   "source": [
    "Multiplerequest.BMI()\n",
    "#class.function"
   ]
  },
  {
   "cell_type": "code",
   "execution_count": 3,
   "id": "3bba6d3e",
   "metadata": {},
   "outputs": [
    {
     "name": "stdout",
     "output_type": "stream",
     "text": [
      "179\n"
     ]
    }
   ],
   "source": [
    "Multiplerequest.addition(90,89)"
   ]
  },
  {
   "cell_type": "code",
   "execution_count": null,
   "id": "c9cdc474",
   "metadata": {},
   "outputs": [],
   "source": []
  }
 ],
 "metadata": {
  "kernelspec": {
   "display_name": "Python 3 (ipykernel)",
   "language": "python",
   "name": "python3"
  },
  "language_info": {
   "codemirror_mode": {
    "name": "ipython",
    "version": 3
   },
   "file_extension": ".py",
   "mimetype": "text/x-python",
   "name": "python",
   "nbconvert_exporter": "python",
   "pygments_lexer": "ipython3",
   "version": "3.11.5"
  }
 },
 "nbformat": 4,
 "nbformat_minor": 5
}
