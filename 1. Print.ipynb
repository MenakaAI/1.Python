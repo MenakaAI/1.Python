{
 "cells": [
  {
   "cell_type": "code",
   "execution_count": 3,
   "id": "51ccce47",
   "metadata": {},
   "outputs": [
    {
     "name": "stdout",
     "output_type": "stream",
     "text": [
      "Welcome to AI\n"
     ]
    }
   ],
   "source": [
    "print(\"Welcome to AI\")"
   ]
  },
  {
   "cell_type": "code",
   "execution_count": 6,
   "id": "118c9a9b",
   "metadata": {},
   "outputs": [
    {
     "name": "stdout",
     "output_type": "stream",
     "text": [
      "Hello AI\n"
     ]
    }
   ],
   "source": [
    "print (\"Hello AI\")"
   ]
  },
  {
   "cell_type": "code",
   "execution_count": 7,
   "id": "b1f61146",
   "metadata": {},
   "outputs": [
    {
     "name": "stdout",
     "output_type": "stream",
     "text": [
      "123_AI\n"
     ]
    }
   ],
   "source": [
    "print(\"123_AI\")"
   ]
  },
  {
   "cell_type": "code",
   "execution_count": null,
   "id": "aa0cf0ab",
   "metadata": {},
   "outputs": [],
   "source": []
  }
 ],
 "metadata": {
  "kernelspec": {
   "display_name": "Python 3 (ipykernel)",
   "language": "python",
   "name": "python3"
  },
  "language_info": {
   "codemirror_mode": {
    "name": "ipython",
    "version": 3
   },
   "file_extension": ".py",
   "mimetype": "text/x-python",
   "name": "python",
   "nbconvert_exporter": "python",
   "pygments_lexer": "ipython3",
   "version": "3.11.5"
  }
 },
 "nbformat": 4,
 "nbformat_minor": 5
}
