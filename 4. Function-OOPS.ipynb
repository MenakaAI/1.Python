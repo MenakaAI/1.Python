{
 "cells": [
  {
   "cell_type": "code",
   "execution_count": null,
   "id": "7eac4d41",
   "metadata": {},
   "outputs": [],
   "source": [
    "#If-elseif Syntax:"
   ]
  },
  {
   "cell_type": "code",
   "execution_count": 13,
   "id": "31c1a6dc",
   "metadata": {},
   "outputs": [],
   "source": [
    "if():       \n",
    "    print()\n",
    "elif():\n",
    "    print()"
   ]
  },
  {
   "cell_type": "code",
   "execution_count": null,
   "id": "75e48fff",
   "metadata": {},
   "outputs": [],
   "source": [
    "if(age<18):\n",
    "    print (\"children\")"
   ]
  },
  {
   "cell_type": "code",
   "execution_count": 14,
   "id": "a302d346",
   "metadata": {},
   "outputs": [
    {
     "name": "stdout",
     "output_type": "stream",
     "text": [
      "Enter you age :65\n"
     ]
    }
   ],
   "source": [
    "age=int(input(\"Enter you age :\"))\n"
   ]
  },
  {
   "cell_type": "code",
   "execution_count": null,
   "id": "422b6a11",
   "metadata": {},
   "outputs": [],
   "source": [
    "if(age<18):\n",
    "    print (\"children\")\n",
    "else:\n",
    "    print(\"adult\")"
   ]
  },
  {
   "cell_type": "code",
   "execution_count": null,
   "id": "601ef554",
   "metadata": {},
   "outputs": [],
   "source": [
    "if(age<=18):\n",
    "    print (\"children\")\n",
    "elif(age<=35):\n",
    "    print (\"adult\")\n",
    "elif(age<=59):\n",
    "    print(\"Citizen\")\n",
    "else: \n",
    "    print(\"senior Citizen\")"
   ]
  },
  {
   "cell_type": "code",
   "execution_count": null,
   "id": "a295cdbb",
   "metadata": {},
   "outputs": [],
   "source": [
    "#for Loop\n"
   ]
  },
  {
   "cell_type": "code",
   "execution_count": null,
   "id": "f3de5b77",
   "metadata": {},
   "outputs": [],
   "source": [
    "for temp in mainvaraiable: --> Syntax\n",
    "   print (temp)"
   ]
  },
  {
   "cell_type": "code",
   "execution_count": null,
   "id": "48bdac2c",
   "metadata": {},
   "outputs": [],
   "source": [
    "lists =[18,24,43,57,87]"
   ]
  },
  {
   "cell_type": "code",
   "execution_count": null,
   "id": "0571d1ea",
   "metadata": {},
   "outputs": [],
   "source": [
    "for age in lists:\n",
    "    print(age)"
   ]
  },
  {
   "cell_type": "code",
   "execution_count": 1,
   "id": "42a99ada",
   "metadata": {},
   "outputs": [
    {
     "ename": "SyntaxError",
     "evalue": "invalid syntax (2274237300.py, line 4)",
     "output_type": "error",
     "traceback": [
      "\u001b[1;36m  Cell \u001b[1;32mIn[1], line 4\u001b[1;36m\u001b[0m\n\u001b[1;33m    elif(age<=35):\u001b[0m\n\u001b[1;37m    ^\u001b[0m\n\u001b[1;31mSyntaxError\u001b[0m\u001b[1;31m:\u001b[0m invalid syntax\n"
     ]
    }
   ],
   "source": [
    "for age in lists:\n",
    "    if(age<=18):\n",
    "        print (\"children\")\n",
    "    elif(age<=35):\n",
    "        print (\"adult\")\n",
    "    elif(age<=59):\n",
    "        print(\"Citizen\")\n",
    "    else: \n",
    "        print(\"senior Citizen\")"
   ]
  },
  {
   "cell_type": "code",
   "execution_count": null,
   "id": "f263aed7",
   "metadata": {},
   "outputs": [],
   "source": [
    "for age in lists:\n",
    "if(age<=18):\n",
    "    print (\"children\")\n",
    "    elif(age<=35):\n",
    "    print (\"adult\")\n",
    "    elif(age<=59):\n",
    "    print(\"Citizen\")\n",
    "    else: \n",
    "    print(\"senior Citizen\")"
   ]
  },
  {
   "cell_type": "code",
   "execution_count": null,
   "id": "f62627a3",
   "metadata": {},
   "outputs": [],
   "source": [
    "for age in lists:\n",
    "    if(age<=18):\n",
    "        print (\"children\")\n",
    "    elif(age<=35):\n",
    "        print (\"adult\")\n",
    "    elif(age<=59):\n",
    "        print(\"Citizen\")\n",
    "    else: \n",
    "        print(\"senior Citizen\")"
   ]
  },
  {
   "cell_type": "code",
   "execution_count": null,
   "id": "8dbe69c3",
   "metadata": {},
   "outputs": [],
   "source": [
    "#Functions\n"
   ]
  },
  {
   "cell_type": "code",
   "execution_count": 5,
   "id": "519b14a0",
   "metadata": {},
   "outputs": [],
   "source": [
    "lists =[18,24,43,57,87]"
   ]
  },
  {
   "cell_type": "code",
   "execution_count": 6,
   "id": "b03bed52",
   "metadata": {},
   "outputs": [],
   "source": [
    "def agecategory():\n",
    "    for age in lists:\n",
    "        if(age<=18):\n",
    "            print (\"children\")\n",
    "        elif(age<=35):\n",
    "            print (\"adult\")\n",
    "        elif(age<=59):\n",
    "            print(\"Citizen\")\n",
    "        else: \n",
    "            print(\"senior Citizen\")\n",
    "    \n",
    "\n",
    "    "
   ]
  },
  {
   "cell_type": "code",
   "execution_count": null,
   "id": "e15cce62",
   "metadata": {},
   "outputs": [],
   "source": [
    "agecategory()"
   ]
  },
  {
   "cell_type": "code",
   "execution_count": 3,
   "id": "041c1f95",
   "metadata": {},
   "outputs": [],
   "source": [
    "def agecategory():\n",
    "    for age in lists:\n",
    "        if(age<=18):\n",
    "            print (\"children\")\n",
    "            cat=\"child\"\n",
    "        elif(age<=35):\n",
    "            print (\"adult\")\n",
    "            cat=\"adult\"\n",
    "        elif(age<=59):\n",
    "            print(\"Citizen\")\n",
    "            cat=\"citizen\"\n",
    "        else: \n",
    "            print(\"senior Citizen\")\n",
    "            cat=\"senior citizen\"\n",
    "            return cat\n",
    "            "
   ]
  },
  {
   "cell_type": "code",
   "execution_count": 11,
   "id": "3d6dba58",
   "metadata": {},
   "outputs": [
    {
     "name": "stdout",
     "output_type": "stream",
     "text": [
      "Enter you age :77\n",
      "children\n",
      "adult\n",
      "Citizen\n",
      "Citizen\n",
      "senior Citizen\n"
     ]
    }
   ],
   "source": [
    "age=int(input(\"Enter you age :\"))\n",
    "cate=agecategory()"
   ]
  },
  {
   "cell_type": "code",
   "execution_count": 8,
   "id": "ef7e66fd",
   "metadata": {},
   "outputs": [
    {
     "name": "stdout",
     "output_type": "stream",
     "text": [
      "Enter you age :77\n",
      "children\n",
      "adult\n",
      "Citizen\n",
      "Citizen\n",
      "senior Citizen\n"
     ]
    }
   ],
   "source": [
    "age=int(input(\"Enter you age :\"))\n",
    "agecategory() "
   ]
  },
  {
   "cell_type": "code",
   "execution_count": 12,
   "id": "abb15311",
   "metadata": {},
   "outputs": [
    {
     "name": "stdout",
     "output_type": "stream",
     "text": [
      "None\n"
     ]
    }
   ],
   "source": [
    "print (cate)"
   ]
  },
  {
   "cell_type": "code",
   "execution_count": null,
   "id": "33b06907",
   "metadata": {},
   "outputs": [],
   "source": []
  },
  {
   "cell_type": "code",
   "execution_count": null,
   "id": "f3508018",
   "metadata": {},
   "outputs": [],
   "source": []
  }
 ],
 "metadata": {
  "kernelspec": {
   "display_name": "Python 3 (ipykernel)",
   "language": "python",
   "name": "python3"
  },
  "language_info": {
   "codemirror_mode": {
    "name": "ipython",
    "version": 3
   },
   "file_extension": ".py",
   "mimetype": "text/x-python",
   "name": "python",
   "nbconvert_exporter": "python",
   "pygments_lexer": "ipython3",
   "version": "3.11.5"
  }
 },
 "nbformat": 4,
 "nbformat_minor": 5
}
